{
 "cells": [
  {
   "cell_type": "code",
   "execution_count": 26,
   "metadata": {},
   "outputs": [],
   "source": [
    "# Merge nas 5 tabelas distintas para trabalharmos com uma Dataframe única\n",
    "\n",
    "import pandas as pd\n",
    "from pyxlsb import open_workbook as open_xlsb\n",
    "\n",
    "MD1 = pd.read_excel('DadosOTs_Transformados - Copia PoliJr.xlsb', sheet_name='MasterData1')\n",
    "\n",
    "MD2 = pd.read_excel('DadosOTs_Transformados - Copia PoliJr.xlsb', sheet_name='MasterData2')\n",
    "MD2.rename(columns={'TurbineFunctionalLocation': 'Aerogenerador'}, inplace=True)\n",
    "\n",
    "OTs = pd.read_excel('DadosOTs_Transformados - Copia PoliJr.xlsb', sheet_name='Consumo_OTs')\n",
    "OTs.rename(columns={'Aerogenerador (Ubicación Técnica)': 'Aerogenerador'}, inplace=True)\n",
    "\n",
    "MDT1 = pd.read_excel('DadosOTs_Transformados - Copia PoliJr.xlsb', sheet_name='MasterData_Materiais1')\n",
    "MDT1.rename(columns={'Number': 'Material'}, inplace=True)\n",
    "\n",
    "MDT2 = pd.read_excel('DadosOTs_Transformados - Copia PoliJr.xlsb', sheet_name='MasterData_Materiais2')\n",
    "\n",
    "df = MD1.merge(MD2, on='Aerogenerador', how='inner')\n",
    "df = df.merge(OTs, on='Aerogenerador', how='inner')\n",
    "df = df.merge(MDT1, on='Material', how='inner')\n",
    "df = df.merge(MDT2, on='Material', how='inner')\n",
    "df\n",
    "\n",
    "df.to_excel('Merge_Dados.xlsx')"
   ]
  },
  {
   "cell_type": "code",
   "execution_count": 45,
   "metadata": {},
   "outputs": [
    {
     "name": "stdout",
     "output_type": "stream",
     "text": [
      "          Orden  Material  Clase de movimiento  Cantidad 966\n",
      "0     402606584  GP082781                  966           1.0\n",
      "1     402612935  GP011546                  966           1.0\n",
      "2     402618103     50846                  966           1.0\n",
      "3     402624587  GP266727                  966           1.0\n",
      "4     402624587  GP105540                  966           1.0\n",
      "...         ...       ...                  ...           ...\n",
      "4960  405156145   AMB0155                  966           1.0\n",
      "4961  405161328  GP010564                  966           1.0\n",
      "4962  405161481  GP004265                  966           1.0\n",
      "4963  405163832  GP004891                  966           1.0\n",
      "4964  405167591  GP234915                  966           1.0\n",
      "\n",
      "[4965 rows x 4 columns]\n",
      "Number of rows: 4965\n"
     ]
    }
   ],
   "source": [
    "import pandas as pd\n",
    "\n",
    "def process_table(df):\n",
    "    result_rows = []\n",
    "    zero_965_nonzero_966 = []\n",
    "    \n",
    "    # Itera por cada ORDEN única\n",
    "    for order in df['Orden'].unique():\n",
    "        df_order = df[df['Orden'] == order]\n",
    "        \n",
    "        # Itera por cada MATERIAL único dentro da ORDEN\n",
    "        for material in df_order['Material'].unique():\n",
    "            df_material = df_order[df_order['Material'] == material]\n",
    "            \n",
    "            # Soma as quantidades para as classes de movimento 965 e 966\n",
    "            qty_965 = df_material[df_material['Clase de movimiento'] == 965]['Cantidad'].sum()\n",
    "            qty_966 = df_material[df_material['Clase de movimiento'] == 966]['Cantidad'].sum()\n",
    "            \n",
    "            # Calcula o saldo\n",
    "            saldo = qty_965 - qty_966\n",
    "            \n",
    "            # Cria uma nova linha com os dados agregados\n",
    "            new_row = {\n",
    "                'Orden': order,\n",
    "                'Material': material,\n",
    "                'Clase de movimiento': 965,\n",
    "                'Saldo': saldo\n",
    "            }\n",
    "            \n",
    "            result_rows.append(new_row)\n",
    "            \n",
    "            # Verifica se qty_965 é zero e qty_966 é diferente de zero\n",
    "            if qty_965 == 0 and qty_966 != 0:\n",
    "                zero_965_nonzero_966.append({\n",
    "                    'Orden': order,\n",
    "                    'Material': material,\n",
    "                    'Clase de movimiento': 966,\n",
    "                    'Cantidad 966': qty_966\n",
    "                })\n",
    "    \n",
    "    # Cria um novo DataFrame com as linhas resultantes\n",
    "    df_result = pd.DataFrame(result_rows)\n",
    "    df_zero_965_nonzero_966 = pd.DataFrame(zero_965_nonzero_966)\n",
    "    \n",
    "    return df_result, df_zero_965_nonzero_966\n",
    "\n",
    "# Carregar o dataframe original\n",
    "df = pd.read_excel('DadosOTs_Transformados - Copia PoliJr.xlsb', sheet_name='Consumo_OTs')\n",
    "\n",
    "# Processar o dataframe\n",
    "df_processed, df_zero_965_nonzero_966 = process_table(df)\n",
    "\n",
    "# Salvar o dataframe processado em um novo arquivo\n",
    "df_processed.to_excel('Balanco_Compras.xlsx', index=False)\n",
    "\n",
    "# Salvar o dataframe com qty_965 zero e qty_966 diferente de zero em um novo arquivo\n",
    "df_zero_965_nonzero_966.to_excel('Linhas_Zero_965_Nonzero_966.xlsx', index=False)\n",
    "\n",
    "# Imprimir o dataframe e o número de linhas\n",
    "print(df_zero_965_nonzero_966)\n",
    "print(f\"Number of rows: {df_zero_965_nonzero_966.shape[0]}\")\n"
   ]
  },
  {
   "cell_type": "code",
   "execution_count": 39,
   "metadata": {},
   "outputs": [
    {
     "name": "stdout",
     "output_type": "stream",
     "text": [
      "            Orden  Material  Clase de movimiento  Cantidad\n",
      "44      402606584  GP082781                  965      -1.0\n",
      "121     402612935  GP011546                  965      -1.0\n",
      "173     402618103     50846                  965      -1.0\n",
      "236     402624050  GP011692                  965      -1.0\n",
      "246     402624587  GP266727                  965      -1.0\n",
      "...           ...       ...                  ...       ...\n",
      "155802  405156145   AMB0155                  965      -1.0\n",
      "155934  405161328  GP010564                  965      -1.0\n",
      "155958  405161481  GP004265                  965      -1.0\n",
      "156074  405163832  GP004891                  965      -1.0\n",
      "156114  405167591  GP234915                  965      -1.0\n",
      "\n",
      "[6106 rows x 4 columns]\n"
     ]
    }
   ],
   "source": [
    "print(df_processed[df_processed['Cantidad'] < 0])"
   ]
  }
 ],
 "metadata": {
  "kernelspec": {
   "display_name": "venv_SG",
   "language": "python",
   "name": "python3"
  },
  "language_info": {
   "codemirror_mode": {
    "name": "ipython",
    "version": 3
   },
   "file_extension": ".py",
   "mimetype": "text/x-python",
   "name": "python",
   "nbconvert_exporter": "python",
   "pygments_lexer": "ipython3",
   "version": "3.11.9"
  }
 },
 "nbformat": 4,
 "nbformat_minor": 2
}
